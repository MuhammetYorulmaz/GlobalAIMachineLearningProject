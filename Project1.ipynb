{
 "cells": [
  {
   "cell_type": "markdown",
   "id": "d95325d6",
   "metadata": {},
   "source": [
    "# Giriş\n",
    "\n",
    "\n",
    "<div style=\"color:black;\n",
    "           display:fill;\n",
    "           border-radius:8px;\n",
    "           background-color:#d3dcec;\n",
    "           font-size:130%;\n",
    "           font-family:Times New Roman;\n",
    "           letter-spacing:0.5px\">\n",
    "\n",
    "<p style=\"padding: 15px;\">\n",
    "    Bu notebookta, Medical Cost Personal Veri Seti incelenmiştir. Verilen değişkenlere göre bir kişinin sağlık sigorta masrafının yaklaşık ne kadar olacağı tahmin edilmeye çalışılmıştır.  \n",
    "    \n",
    "\n",
    "    \n",
    "    \n",
    "</p>\n",
    "</div>\n",
    "\n",
    "***Veri Seti Linki:*** [**Medical Cost Personal Datasets**](https://www.kaggle.com/datasets/mirichoi0218/insurance?resource=download)\n",
    "<font color = \"darkgreen\">\n",
    "    \n",
    "**İçerik:**\n",
    "1. [Kütüphanelerin İçe Aktarılması](#1)\n",
    "    \n",
    "    \n",
    "2. [Veriye Genel Bakış](#2)\n",
    "    * [Veriyi Yükleme](#3)\n",
    "    * [Betimsel İstatistik Değerleri](#4)\n",
    "    * [Eksik Değer Kontrolü](#5)\n",
    "    \n",
    "    \n",
    "3. [Keşifsel Veri Analizi](#6)\n",
    "    * [BMI(Vücut Kitle İndeksi)'nin dağılımı:](#7)\n",
    "    * [smoker ile charges arasındaki ilişki:](#8)\n",
    "    * [smoker(Sigara tüketen) ile region(Bölge) arasındaki ilişki:](#9)\n",
    "    * [bmi ile sex(Cinsiyet) arasındaki ilişkiyi:](#10)\n",
    "    * [En çok children’a sahip region:](#11)\n",
    "    * [Age ile bmi arasındaki ilişki:](#12)\n",
    "    * [bmi ile children arasındaki ilişki:](#13)\n",
    "    * [bmi değişkeninde outlier kontrolü:](#14)\n",
    "    * [bmi ile charges arasındaki ilişki:](#15)\n",
    "    * [region, smoker ve bmi arasındaki ilişkiyi bar plot kullanarak inceleme:](#16)"
   ]
  },
  {
   "cell_type": "markdown",
   "id": "dc8fd2d5",
   "metadata": {},
   "source": [
    "<a id = \"1\"></a><br>\n",
    "## Kütüphanelerin İçe Aktarılması"
   ]
  },
  {
   "cell_type": "code",
   "execution_count": 19,
   "id": "529eb540",
   "metadata": {},
   "outputs": [],
   "source": [
    "import pandas as pd\n",
    "import numpy as np\n",
    "import matplotlib.pyplot as plt\n",
    "import seaborn as sns\n",
    "from scipy import stats\n",
    "import statsmodels.api as sm\n",
    "from scipy.stats import chi2_contingency"
   ]
  },
  {
   "cell_type": "markdown",
   "id": "ee1d2840",
   "metadata": {},
   "source": [
    "<a id = \"2\"></a><br>\n",
    "## Veriye Genel Bakış"
   ]
  },
  {
   "cell_type": "markdown",
   "id": "c426f1b2",
   "metadata": {},
   "source": [
    "* Kolonlar: \n",
    "    * **age**: Sağlık sigortasından yararlanacak kişinin yaşı.\n",
    "    * **sex**: Sağlık sigortasından yararlanacak kişinin cinsiyeti.\n",
    "    * **bmi**: Sağlık sigortasından yararlanacak kişinin beden kitle indeksi. Boy ve kilo oranını kullanarak vücut ağırlığının objektif indeksi (kg / m ^ 2) bulunabilmektedir. 18,5 ile 24,9 oranları ideal indekstir. \n",
    "    * **children**: Kişinin bakmakla yükümlü olduğu kişi sayısı.\n",
    "    * **region**: Sigara içme durumu.\n",
    "    * **charges**: Sağlık sigortası tarafından faturalanan bireysel tıbbi masraflar"
   ]
  },
  {
   "cell_type": "markdown",
   "id": "d0e206e2",
   "metadata": {},
   "source": [
    "<a id = \"3\"></a><br>\n",
    "**Veriyi Yükleme**"
   ]
  },
  {
   "cell_type": "code",
   "execution_count": 2,
   "id": "fb7f33bf",
   "metadata": {},
   "outputs": [
    {
     "data": {
      "text/html": [
       "<div>\n",
       "<style scoped>\n",
       "    .dataframe tbody tr th:only-of-type {\n",
       "        vertical-align: middle;\n",
       "    }\n",
       "\n",
       "    .dataframe tbody tr th {\n",
       "        vertical-align: top;\n",
       "    }\n",
       "\n",
       "    .dataframe thead th {\n",
       "        text-align: right;\n",
       "    }\n",
       "</style>\n",
       "<table border=\"1\" class=\"dataframe\">\n",
       "  <thead>\n",
       "    <tr style=\"text-align: right;\">\n",
       "      <th></th>\n",
       "      <th>age</th>\n",
       "      <th>sex</th>\n",
       "      <th>bmi</th>\n",
       "      <th>children</th>\n",
       "      <th>smoker</th>\n",
       "      <th>region</th>\n",
       "      <th>charges</th>\n",
       "    </tr>\n",
       "  </thead>\n",
       "  <tbody>\n",
       "    <tr>\n",
       "      <th>0</th>\n",
       "      <td>19</td>\n",
       "      <td>female</td>\n",
       "      <td>27.900</td>\n",
       "      <td>0</td>\n",
       "      <td>yes</td>\n",
       "      <td>southwest</td>\n",
       "      <td>16884.92400</td>\n",
       "    </tr>\n",
       "    <tr>\n",
       "      <th>1</th>\n",
       "      <td>18</td>\n",
       "      <td>male</td>\n",
       "      <td>33.770</td>\n",
       "      <td>1</td>\n",
       "      <td>no</td>\n",
       "      <td>southeast</td>\n",
       "      <td>1725.55230</td>\n",
       "    </tr>\n",
       "    <tr>\n",
       "      <th>2</th>\n",
       "      <td>28</td>\n",
       "      <td>male</td>\n",
       "      <td>33.000</td>\n",
       "      <td>3</td>\n",
       "      <td>no</td>\n",
       "      <td>southeast</td>\n",
       "      <td>4449.46200</td>\n",
       "    </tr>\n",
       "    <tr>\n",
       "      <th>3</th>\n",
       "      <td>33</td>\n",
       "      <td>male</td>\n",
       "      <td>22.705</td>\n",
       "      <td>0</td>\n",
       "      <td>no</td>\n",
       "      <td>northwest</td>\n",
       "      <td>21984.47061</td>\n",
       "    </tr>\n",
       "    <tr>\n",
       "      <th>4</th>\n",
       "      <td>32</td>\n",
       "      <td>male</td>\n",
       "      <td>28.880</td>\n",
       "      <td>0</td>\n",
       "      <td>no</td>\n",
       "      <td>northwest</td>\n",
       "      <td>3866.85520</td>\n",
       "    </tr>\n",
       "    <tr>\n",
       "      <th>...</th>\n",
       "      <td>...</td>\n",
       "      <td>...</td>\n",
       "      <td>...</td>\n",
       "      <td>...</td>\n",
       "      <td>...</td>\n",
       "      <td>...</td>\n",
       "      <td>...</td>\n",
       "    </tr>\n",
       "    <tr>\n",
       "      <th>1333</th>\n",
       "      <td>50</td>\n",
       "      <td>male</td>\n",
       "      <td>30.970</td>\n",
       "      <td>3</td>\n",
       "      <td>no</td>\n",
       "      <td>northwest</td>\n",
       "      <td>10600.54830</td>\n",
       "    </tr>\n",
       "    <tr>\n",
       "      <th>1334</th>\n",
       "      <td>18</td>\n",
       "      <td>female</td>\n",
       "      <td>31.920</td>\n",
       "      <td>0</td>\n",
       "      <td>no</td>\n",
       "      <td>northeast</td>\n",
       "      <td>2205.98080</td>\n",
       "    </tr>\n",
       "    <tr>\n",
       "      <th>1335</th>\n",
       "      <td>18</td>\n",
       "      <td>female</td>\n",
       "      <td>36.850</td>\n",
       "      <td>0</td>\n",
       "      <td>no</td>\n",
       "      <td>southeast</td>\n",
       "      <td>1629.83350</td>\n",
       "    </tr>\n",
       "    <tr>\n",
       "      <th>1336</th>\n",
       "      <td>21</td>\n",
       "      <td>female</td>\n",
       "      <td>25.800</td>\n",
       "      <td>0</td>\n",
       "      <td>no</td>\n",
       "      <td>southwest</td>\n",
       "      <td>2007.94500</td>\n",
       "    </tr>\n",
       "    <tr>\n",
       "      <th>1337</th>\n",
       "      <td>61</td>\n",
       "      <td>female</td>\n",
       "      <td>29.070</td>\n",
       "      <td>0</td>\n",
       "      <td>yes</td>\n",
       "      <td>northwest</td>\n",
       "      <td>29141.36030</td>\n",
       "    </tr>\n",
       "  </tbody>\n",
       "</table>\n",
       "<p>1338 rows × 7 columns</p>\n",
       "</div>"
      ],
      "text/plain": [
       "      age     sex     bmi  children smoker     region      charges\n",
       "0      19  female  27.900         0    yes  southwest  16884.92400\n",
       "1      18    male  33.770         1     no  southeast   1725.55230\n",
       "2      28    male  33.000         3     no  southeast   4449.46200\n",
       "3      33    male  22.705         0     no  northwest  21984.47061\n",
       "4      32    male  28.880         0     no  northwest   3866.85520\n",
       "...   ...     ...     ...       ...    ...        ...          ...\n",
       "1333   50    male  30.970         3     no  northwest  10600.54830\n",
       "1334   18  female  31.920         0     no  northeast   2205.98080\n",
       "1335   18  female  36.850         0     no  southeast   1629.83350\n",
       "1336   21  female  25.800         0     no  southwest   2007.94500\n",
       "1337   61  female  29.070         0    yes  northwest  29141.36030\n",
       "\n",
       "[1338 rows x 7 columns]"
      ]
     },
     "execution_count": 2,
     "metadata": {},
     "output_type": "execute_result"
    }
   ],
   "source": [
    "data = pd.read_csv('Datasets/insurance.csv')\n",
    "data"
   ]
  },
  {
   "cell_type": "markdown",
   "id": "046d4245",
   "metadata": {},
   "source": [
    "<a id = \"4\"></a><br>\n",
    "**Betimsel İstatistik Değerleri**"
   ]
  },
  {
   "cell_type": "code",
   "execution_count": 3,
   "id": "24ecb470",
   "metadata": {},
   "outputs": [
    {
     "data": {
      "text/html": [
       "<div>\n",
       "<style scoped>\n",
       "    .dataframe tbody tr th:only-of-type {\n",
       "        vertical-align: middle;\n",
       "    }\n",
       "\n",
       "    .dataframe tbody tr th {\n",
       "        vertical-align: top;\n",
       "    }\n",
       "\n",
       "    .dataframe thead th {\n",
       "        text-align: right;\n",
       "    }\n",
       "</style>\n",
       "<table border=\"1\" class=\"dataframe\">\n",
       "  <thead>\n",
       "    <tr style=\"text-align: right;\">\n",
       "      <th></th>\n",
       "      <th>count</th>\n",
       "      <th>mean</th>\n",
       "      <th>std</th>\n",
       "      <th>min</th>\n",
       "      <th>25%</th>\n",
       "      <th>50%</th>\n",
       "      <th>75%</th>\n",
       "      <th>max</th>\n",
       "    </tr>\n",
       "  </thead>\n",
       "  <tbody>\n",
       "    <tr>\n",
       "      <th>age</th>\n",
       "      <td>1338.0</td>\n",
       "      <td>39.207025</td>\n",
       "      <td>14.049960</td>\n",
       "      <td>18.0000</td>\n",
       "      <td>27.00000</td>\n",
       "      <td>39.000</td>\n",
       "      <td>51.000000</td>\n",
       "      <td>64.00000</td>\n",
       "    </tr>\n",
       "    <tr>\n",
       "      <th>bmi</th>\n",
       "      <td>1338.0</td>\n",
       "      <td>30.663397</td>\n",
       "      <td>6.098187</td>\n",
       "      <td>15.9600</td>\n",
       "      <td>26.29625</td>\n",
       "      <td>30.400</td>\n",
       "      <td>34.693750</td>\n",
       "      <td>53.13000</td>\n",
       "    </tr>\n",
       "    <tr>\n",
       "      <th>children</th>\n",
       "      <td>1338.0</td>\n",
       "      <td>1.094918</td>\n",
       "      <td>1.205493</td>\n",
       "      <td>0.0000</td>\n",
       "      <td>0.00000</td>\n",
       "      <td>1.000</td>\n",
       "      <td>2.000000</td>\n",
       "      <td>5.00000</td>\n",
       "    </tr>\n",
       "    <tr>\n",
       "      <th>charges</th>\n",
       "      <td>1338.0</td>\n",
       "      <td>13270.422265</td>\n",
       "      <td>12110.011237</td>\n",
       "      <td>1121.8739</td>\n",
       "      <td>4740.28715</td>\n",
       "      <td>9382.033</td>\n",
       "      <td>16639.912515</td>\n",
       "      <td>63770.42801</td>\n",
       "    </tr>\n",
       "  </tbody>\n",
       "</table>\n",
       "</div>"
      ],
      "text/plain": [
       "           count          mean           std        min         25%       50%  \\\n",
       "age       1338.0     39.207025     14.049960    18.0000    27.00000    39.000   \n",
       "bmi       1338.0     30.663397      6.098187    15.9600    26.29625    30.400   \n",
       "children  1338.0      1.094918      1.205493     0.0000     0.00000     1.000   \n",
       "charges   1338.0  13270.422265  12110.011237  1121.8739  4740.28715  9382.033   \n",
       "\n",
       "                   75%          max  \n",
       "age          51.000000     64.00000  \n",
       "bmi          34.693750     53.13000  \n",
       "children      2.000000      5.00000  \n",
       "charges   16639.912515  63770.42801  "
      ]
     },
     "execution_count": 3,
     "metadata": {},
     "output_type": "execute_result"
    }
   ],
   "source": [
    "data.describe().T"
   ]
  },
  {
   "cell_type": "markdown",
   "id": "254b70fc",
   "metadata": {},
   "source": [
    "<a id = \"5\"></a><br>\n",
    "**Eksik Değer Kontrolü**"
   ]
  },
  {
   "cell_type": "code",
   "execution_count": 4,
   "id": "bed54018",
   "metadata": {},
   "outputs": [
    {
     "name": "stdout",
     "output_type": "stream",
     "text": [
      "<class 'pandas.core.frame.DataFrame'>\n",
      "RangeIndex: 1338 entries, 0 to 1337\n",
      "Data columns (total 7 columns):\n",
      " #   Column    Non-Null Count  Dtype  \n",
      "---  ------    --------------  -----  \n",
      " 0   age       1338 non-null   int64  \n",
      " 1   sex       1338 non-null   object \n",
      " 2   bmi       1338 non-null   float64\n",
      " 3   children  1338 non-null   int64  \n",
      " 4   smoker    1338 non-null   object \n",
      " 5   region    1338 non-null   object \n",
      " 6   charges   1338 non-null   float64\n",
      "dtypes: float64(2), int64(2), object(3)\n",
      "memory usage: 73.3+ KB\n"
     ]
    }
   ],
   "source": [
    "data.info()"
   ]
  },
  {
   "cell_type": "markdown",
   "id": "fb26a74a",
   "metadata": {},
   "source": [
    "<a id = \"6\"></a><br>\n",
    "## Keşifsel Veri Analizi"
   ]
  },
  {
   "cell_type": "markdown",
   "id": "6eb616c2",
   "metadata": {},
   "source": [
    "<a id = \"7\"></a><br>\n",
    "### `BMI`(Vücut Kitle İndeksi)'nin dağılımı:"
   ]
  },
  {
   "cell_type": "markdown",
   "id": "2137d3c8",
   "metadata": {},
   "source": [
    "* Histogram, hızlı ve çabuk bir şekilde bir değişkenin dağılımı hakkında fikir sahibi olunmasını sağlamaktadır. Sürekli sayısal değişken için geçerli olan histogram, sayıların belli gruplara bölünerek gösterimini sağlar. \n",
    "> BMI değişkenin dağılımı kontrol etmek için `Histogram Grafiğini` kontrol edelim."
   ]
  },
  {
   "cell_type": "code",
   "execution_count": 5,
   "id": "cda69011",
   "metadata": {},
   "outputs": [
    {
     "data": {
      "image/png": "[encoded data removed]",
      "text/plain": [
       "<Figure size 432x288 with 1 Axes>"
      ]
     },
     "metadata": {
      "needs_background": "light"
     },
     "output_type": "display_data"
    }
   ],
   "source": [
    "# Histogram plot parametreleri\n",
    "_, bins, _ = plt.hist(data.bmi, bins = 25,\n",
    "                      density = 1, alpha = 0.5,\n",
    "                      color = 'rosybrown',\n",
    "                      ec= 'rosybrown' )\n",
    "# Bins -> Bidon olarak geçmekte ve 25 ayrı parcaya bolunmesini sağlar\n",
    "# density -> yogunluk olarak gecmektedir. \n",
    "# Çan eğrisi için en uygun değerler\n",
    "\n",
    "mu, sigma = stats.norm.fit(data.bmi)\n",
    "best_fit_line = stats.norm.pdf(bins, mu, sigma)\n",
    "\n",
    "# Çan eğrisi gösterimi\n",
    "plt.plot(bins, best_fit_line, 'g-o')\n",
    "plt.xlabel(\"BMI Değerleri\")\n",
    "plt.ylabel(\"Frekans\")\n",
    "plt.show()"
   ]
  },
  {
   "cell_type": "markdown",
   "id": "07e9901c",
   "metadata": {},
   "source": [
    "* Grafik çok az sağa çarpık dağıldığı görünmekte. Normal dağılıp dağılmadığını istatistiksel olarak görmeye çalışalım.\n",
    "\n",
    "\n",
    "* Normal dağılım sınaması için `Shapiro-Wilk` ve `Kolmogorov-Smirnov` en yaygın olarak kullanılan testler olup temelde hipotezleri aynıdır,\n",
    "\n",
    "**H0**: Değişken normal dağılıma sahiptir. p-value > 0.05\n",
    "\n",
    "**H1**: Değişken normal dağılıma sahip değildir. p-value < 0.05\n"
   ]
  },
  {
   "cell_type": "markdown",
   "id": "e2fff80f",
   "metadata": {},
   "source": [
    "**Kolmogorov-Smirnov** (Test edilecek veri 1000'den fazla olduğu için Shapiro-Wilk'e göre daha fazla tercih edilir. \n",
    "\n",
    "Kolmogorov-Smirnov, bir değişkenin dağılımını, kümülatif dağılım fonksiyonu (cumulative distribution function - CDF) yardımı ile normal dağılıma uyup uymadığını test eder. Veya, iki farklı değişken arasındaki ilişki CDF üzerinden test edilir."
   ]
  },
  {
   "cell_type": "code",
   "execution_count": 6,
   "id": "0b53d31d",
   "metadata": {},
   "outputs": [
    {
     "name": "stdout",
     "output_type": "stream",
     "text": [
      "T: 0.026099881197044095 P-Value: 0.3162798242838347\n"
     ]
    }
   ],
   "source": [
    "# Kolmogorov–Smirnov test\n",
    "bmi = data.bmi\n",
    "\n",
    "bmiKSTest = stats.kstest(bmi, 'norm',\n",
    "                         args=(bmi.mean(),\n",
    "                               bmi.std()))\n",
    "\n",
    "print(f\"T: {bmiKSTest[0]} P-Value: {bmiKSTest[1]}\")"
   ]
  },
  {
   "cell_type": "markdown",
   "id": "ce1e7adf",
   "metadata": {},
   "source": [
    "* BMI değişkeni için H0 hipotezi kabul edilmiştir (p-value > 0.05). Dolayısı ile değişkenin normal bir dağılım gösterdiği söylenebilir."
   ]
  },
  {
   "cell_type": "markdown",
   "id": "7efde51d",
   "metadata": {},
   "source": [
    "<a id = \"8\"></a><br>\n",
    "### `smoker` ile `charges` arasındaki ilişki:"
   ]
  },
  {
   "cell_type": "markdown",
   "id": "6593e9ff",
   "metadata": {},
   "source": [
    "<a id = \"9\"></a><br>\n",
    "### `smoker`(Sigara tüketen) ile `region`(Bölge) arasındaki ilişki:"
   ]
  },
  {
   "cell_type": "markdown",
   "id": "dbe60c93",
   "metadata": {},
   "source": [
    "* İki farklı kategorik değişken arasındaki ilişkiyi değerlendirmek için Çapraz Tablo oluşturup, Ki kare testi ile p-value değerini bulup hipotezi kabul edip etmeyeceğimizi görelim.\n",
    "\n",
    "**H0:** Değişkenler birbiriyle ilişkili değildir. p-value > 0.05"
   ]
  },
  {
   "cell_type": "code",
   "execution_count": 21,
   "id": "a9426f5a",
   "metadata": {},
   "outputs": [
    {
     "data": {
      "text/html": [
       "<div>\n",
       "<style scoped>\n",
       "    .dataframe tbody tr th:only-of-type {\n",
       "        vertical-align: middle;\n",
       "    }\n",
       "\n",
       "    .dataframe tbody tr th {\n",
       "        vertical-align: top;\n",
       "    }\n",
       "\n",
       "    .dataframe thead th {\n",
       "        text-align: right;\n",
       "    }\n",
       "</style>\n",
       "<table border=\"1\" class=\"dataframe\">\n",
       "  <thead>\n",
       "    <tr style=\"text-align: right;\">\n",
       "      <th>region</th>\n",
       "      <th>northeast</th>\n",
       "      <th>northwest</th>\n",
       "      <th>southeast</th>\n",
       "      <th>southwest</th>\n",
       "    </tr>\n",
       "    <tr>\n",
       "      <th>smoker</th>\n",
       "      <th></th>\n",
       "      <th></th>\n",
       "      <th></th>\n",
       "      <th></th>\n",
       "    </tr>\n",
       "  </thead>\n",
       "  <tbody>\n",
       "    <tr>\n",
       "      <th>no</th>\n",
       "      <td>257</td>\n",
       "      <td>267</td>\n",
       "      <td>273</td>\n",
       "      <td>267</td>\n",
       "    </tr>\n",
       "    <tr>\n",
       "      <th>yes</th>\n",
       "      <td>67</td>\n",
       "      <td>58</td>\n",
       "      <td>91</td>\n",
       "      <td>58</td>\n",
       "    </tr>\n",
       "  </tbody>\n",
       "</table>\n",
       "</div>"
      ],
      "text/plain": [
       "region  northeast  northwest  southeast  southwest\n",
       "smoker                                            \n",
       "no            257        267        273        267\n",
       "yes            67         58         91         58"
      ]
     },
     "execution_count": 21,
     "metadata": {},
     "output_type": "execute_result"
    }
   ],
   "source": [
    "#Çapraz tablosunun oluşturulması\n",
    "crossTab =pd.crosstab(index=data['smoker'],columns=data['region'])\n",
    "crossTab"
   ]
  },
  {
   "cell_type": "code",
   "execution_count": 22,
   "id": "b65cb94c",
   "metadata": {},
   "outputs": [
    {
     "name": "stdout",
     "output_type": "stream",
     "text": [
      "Ki kare testi sonucunda p-value değeri: 0.06171954839170547\n"
     ]
    }
   ],
   "source": [
    "# Ki kare testinin oluşturulması\n",
    "kiKare = chi2_contingency(crossTab)\n",
    "print('Ki kare testi sonucunda p-value değeri:', kiKare[1])"
   ]
  },
  {
   "cell_type": "markdown",
   "id": "a985b92a",
   "metadata": {},
   "source": [
    "* p-value 0,05'ten yüksek geldi. Dolayısıyla H0 kabul edilecektir. Bu, smoker ve region değişkenlerinin birbiriyle ilişkili olmadığı anlamına gelmektedir."
   ]
  },
  {
   "cell_type": "markdown",
   "id": "cc41d526",
   "metadata": {},
   "source": [
    "<a id = \"10\"></a><br>\n",
    "### `bmi` ile `sex`(Cinsiyet) arasındaki ilişkiyi:"
   ]
  },
  {
   "cell_type": "markdown",
   "id": "5aa7e15c",
   "metadata": {},
   "source": [
    "<a id = \"11\"></a><br>\n",
    "### En çok `children`’a sahip `region`:"
   ]
  },
  {
   "cell_type": "code",
   "execution_count": 7,
   "id": "58329ea8",
   "metadata": {},
   "outputs": [
    {
     "data": {
      "text/html": [
       "<div>\n",
       "<style scoped>\n",
       "    .dataframe tbody tr th:only-of-type {\n",
       "        vertical-align: middle;\n",
       "    }\n",
       "\n",
       "    .dataframe tbody tr th {\n",
       "        vertical-align: top;\n",
       "    }\n",
       "\n",
       "    .dataframe thead th {\n",
       "        text-align: right;\n",
       "    }\n",
       "</style>\n",
       "<table border=\"1\" class=\"dataframe\">\n",
       "  <thead>\n",
       "    <tr style=\"text-align: right;\">\n",
       "      <th></th>\n",
       "      <th>region</th>\n",
       "      <th>children</th>\n",
       "    </tr>\n",
       "  </thead>\n",
       "  <tbody>\n",
       "    <tr>\n",
       "      <th>0</th>\n",
       "      <td>southeast</td>\n",
       "      <td>382</td>\n",
       "    </tr>\n",
       "    <tr>\n",
       "      <th>1</th>\n",
       "      <td>northwest</td>\n",
       "      <td>373</td>\n",
       "    </tr>\n",
       "    <tr>\n",
       "      <th>2</th>\n",
       "      <td>southwest</td>\n",
       "      <td>371</td>\n",
       "    </tr>\n",
       "    <tr>\n",
       "      <th>3</th>\n",
       "      <td>northeast</td>\n",
       "      <td>339</td>\n",
       "    </tr>\n",
       "  </tbody>\n",
       "</table>\n",
       "</div>"
      ],
      "text/plain": [
       "      region  children\n",
       "0  southeast       382\n",
       "1  northwest       373\n",
       "2  southwest       371\n",
       "3  northeast       339"
      ]
     },
     "execution_count": 7,
     "metadata": {},
     "output_type": "execute_result"
    }
   ],
   "source": [
    "data.groupby(\"region\").agg({\"children\":\"sum\"}).sort_values(by=\"children\", ascending=False).reset_index()"
   ]
  },
  {
   "cell_type": "markdown",
   "id": "25114e8a",
   "metadata": {},
   "source": [
    "* `Southeast` bölgesinin en çok çocuğa(`382`) sahip bölge olduğu görülmekte. "
   ]
  },
  {
   "cell_type": "markdown",
   "id": "861be5a8",
   "metadata": {},
   "source": [
    "<a id = \"12\"></a><br>\n",
    "### `Age` ile `bmi` arasındaki ilişki:"
   ]
  },
  {
   "cell_type": "markdown",
   "id": "f862ab42",
   "metadata": {},
   "source": [
    "* Sayısal değişkenler arasındaki ilişki için, Plot Grafiğini, Korelasyon ve R-squared değerlerini inceleyelim."
   ]
  },
  {
   "cell_type": "markdown",
   "id": "5516ea55",
   "metadata": {},
   "source": [
    "> **Plot Grafiği**"
   ]
  },
  {
   "cell_type": "code",
   "execution_count": 8,
   "id": "6a2f8fda",
   "metadata": {},
   "outputs": [
    {
     "data": {
      "image/png": "[encoded data removed]",
      "text/plain": [
       "<Figure size 432x432 with 3 Axes>"
      ]
     },
     "metadata": {
      "needs_background": "light"
     },
     "output_type": "display_data"
    }
   ],
   "source": [
    "sns.jointplot(x = \"age\" , y = \"bmi\", data=data, kind = \"reg\",color = 'cadetblue');"
   ]
  },
  {
   "cell_type": "markdown",
   "id": "788c1d55",
   "metadata": {},
   "source": [
    "* Plot grafiğinde görüldüğü üzere, Yaş ve Vücut Kütle İndeksi arasında herhangi bir ilişki görünmemekte. Yani yaş artıkça BMI değeri artıyor veya azalıyor denilememektedir."
   ]
  },
  {
   "cell_type": "markdown",
   "id": "77d0ec32",
   "metadata": {},
   "source": [
    "> **Korelasyon Değeri**"
   ]
  },
  {
   "cell_type": "code",
   "execution_count": 9,
   "id": "7314cdf8",
   "metadata": {},
   "outputs": [
    {
     "data": {
      "text/html": [
       "<div>\n",
       "<style scoped>\n",
       "    .dataframe tbody tr th:only-of-type {\n",
       "        vertical-align: middle;\n",
       "    }\n",
       "\n",
       "    .dataframe tbody tr th {\n",
       "        vertical-align: top;\n",
       "    }\n",
       "\n",
       "    .dataframe thead th {\n",
       "        text-align: right;\n",
       "    }\n",
       "</style>\n",
       "<table border=\"1\" class=\"dataframe\">\n",
       "  <thead>\n",
       "    <tr style=\"text-align: right;\">\n",
       "      <th></th>\n",
       "      <th>age</th>\n",
       "      <th>bmi</th>\n",
       "      <th>children</th>\n",
       "      <th>charges</th>\n",
       "    </tr>\n",
       "  </thead>\n",
       "  <tbody>\n",
       "    <tr>\n",
       "      <th>age</th>\n",
       "      <td>1.000000</td>\n",
       "      <td>0.109272</td>\n",
       "      <td>0.042469</td>\n",
       "      <td>0.299008</td>\n",
       "    </tr>\n",
       "    <tr>\n",
       "      <th>bmi</th>\n",
       "      <td>0.109272</td>\n",
       "      <td>1.000000</td>\n",
       "      <td>0.012759</td>\n",
       "      <td>0.198341</td>\n",
       "    </tr>\n",
       "    <tr>\n",
       "      <th>children</th>\n",
       "      <td>0.042469</td>\n",
       "      <td>0.012759</td>\n",
       "      <td>1.000000</td>\n",
       "      <td>0.067998</td>\n",
       "    </tr>\n",
       "    <tr>\n",
       "      <th>charges</th>\n",
       "      <td>0.299008</td>\n",
       "      <td>0.198341</td>\n",
       "      <td>0.067998</td>\n",
       "      <td>1.000000</td>\n",
       "    </tr>\n",
       "  </tbody>\n",
       "</table>\n",
       "</div>"
      ],
      "text/plain": [
       "               age       bmi  children   charges\n",
       "age       1.000000  0.109272  0.042469  0.299008\n",
       "bmi       0.109272  1.000000  0.012759  0.198341\n",
       "children  0.042469  0.012759  1.000000  0.067998\n",
       "charges   0.299008  0.198341  0.067998  1.000000"
      ]
     },
     "execution_count": 9,
     "metadata": {},
     "output_type": "execute_result"
    }
   ],
   "source": [
    "data.corr()"
   ]
  },
  {
   "cell_type": "markdown",
   "id": "6924c44f",
   "metadata": {},
   "source": [
    "* Korelasyon değerleri incelendiğinde, Yaş ve Vücut Kütle İndeksi arasında çok zayıf bir ilişki veya ilişki yok denilebilmektedir."
   ]
  },
  {
   "cell_type": "markdown",
   "id": "115e6e06",
   "metadata": {},
   "source": [
    "> **R-Squared Değeri**"
   ]
  },
  {
   "cell_type": "code",
   "execution_count": 20,
   "id": "341b01e7",
   "metadata": {},
   "outputs": [
    {
     "data": {
      "text/html": [
       "<table class=\"simpletable\">\n",
       "<caption>OLS Regression Results</caption>\n",
       "<tr>\n",
       "  <th>Dep. Variable:</th>         <td>charges</td>     <th>  R-squared:         </th> <td>   0.089</td> \n",
       "</tr>\n",
       "<tr>\n",
       "  <th>Model:</th>                   <td>OLS</td>       <th>  Adj. R-squared:    </th> <td>   0.089</td> \n",
       "</tr>\n",
       "<tr>\n",
       "  <th>Method:</th>             <td>Least Squares</td>  <th>  F-statistic:       </th> <td>   131.2</td> \n",
       "</tr>\n",
       "<tr>\n",
       "  <th>Date:</th>             <td>Sun, 25 Sep 2022</td> <th>  Prob (F-statistic):</th> <td>4.89e-29</td> \n",
       "</tr>\n",
       "<tr>\n",
       "  <th>Time:</th>                 <td>22:29:23</td>     <th>  Log-Likelihood:    </th> <td> -14415.</td> \n",
       "</tr>\n",
       "<tr>\n",
       "  <th>No. Observations:</th>      <td>  1338</td>      <th>  AIC:               </th> <td>2.883e+04</td>\n",
       "</tr>\n",
       "<tr>\n",
       "  <th>Df Residuals:</th>          <td>  1336</td>      <th>  BIC:               </th> <td>2.884e+04</td>\n",
       "</tr>\n",
       "<tr>\n",
       "  <th>Df Model:</th>              <td>     1</td>      <th>                     </th>     <td> </td>    \n",
       "</tr>\n",
       "<tr>\n",
       "  <th>Covariance Type:</th>      <td>nonrobust</td>    <th>                     </th>     <td> </td>    \n",
       "</tr>\n",
       "</table>\n",
       "<table class=\"simpletable\">\n",
       "<tr>\n",
       "    <td></td>       <th>coef</th>     <th>std err</th>      <th>t</th>      <th>P>|t|</th>  <th>[0.025</th>    <th>0.975]</th>  \n",
       "</tr>\n",
       "<tr>\n",
       "  <th>const</th> <td> 3165.8850</td> <td>  937.149</td> <td>    3.378</td> <td> 0.001</td> <td> 1327.440</td> <td> 5004.330</td>\n",
       "</tr>\n",
       "<tr>\n",
       "  <th>age</th>   <td>  257.7226</td> <td>   22.502</td> <td>   11.453</td> <td> 0.000</td> <td>  213.579</td> <td>  301.866</td>\n",
       "</tr>\n",
       "</table>\n",
       "<table class=\"simpletable\">\n",
       "<tr>\n",
       "  <th>Omnibus:</th>       <td>399.600</td> <th>  Durbin-Watson:     </th> <td>   2.033</td> \n",
       "</tr>\n",
       "<tr>\n",
       "  <th>Prob(Omnibus):</th> <td> 0.000</td>  <th>  Jarque-Bera (JB):  </th> <td> 864.239</td> \n",
       "</tr>\n",
       "<tr>\n",
       "  <th>Skew:</th>          <td> 1.733</td>  <th>  Prob(JB):          </th> <td>2.15e-188</td>\n",
       "</tr>\n",
       "<tr>\n",
       "  <th>Kurtosis:</th>      <td> 4.869</td>  <th>  Cond. No.          </th> <td>    124.</td> \n",
       "</tr>\n",
       "</table><br/><br/>Notes:<br/>[1] Standard Errors assume that the covariance matrix of the errors is correctly specified."
      ],
      "text/plain": [
       "<class 'statsmodels.iolib.summary.Summary'>\n",
       "\"\"\"\n",
       "                            OLS Regression Results                            \n",
       "==============================================================================\n",
       "Dep. Variable:                charges   R-squared:                       0.089\n",
       "Model:                            OLS   Adj. R-squared:                  0.089\n",
       "Method:                 Least Squares   F-statistic:                     131.2\n",
       "Date:                Sun, 25 Sep 2022   Prob (F-statistic):           4.89e-29\n",
       "Time:                        22:29:23   Log-Likelihood:                -14415.\n",
       "No. Observations:                1338   AIC:                         2.883e+04\n",
       "Df Residuals:                    1336   BIC:                         2.884e+04\n",
       "Df Model:                           1                                         \n",
       "Covariance Type:            nonrobust                                         \n",
       "==============================================================================\n",
       "                 coef    std err          t      P>|t|      [0.025      0.975]\n",
       "------------------------------------------------------------------------------\n",
       "const       3165.8850    937.149      3.378      0.001    1327.440    5004.330\n",
       "age          257.7226     22.502     11.453      0.000     213.579     301.866\n",
       "==============================================================================\n",
       "Omnibus:                      399.600   Durbin-Watson:                   2.033\n",
       "Prob(Omnibus):                  0.000   Jarque-Bera (JB):              864.239\n",
       "Skew:                           1.733   Prob(JB):                    2.15e-188\n",
       "Kurtosis:                       4.869   Cond. No.                         124.\n",
       "==============================================================================\n",
       "\n",
       "Notes:\n",
       "[1] Standard Errors assume that the covariance matrix of the errors is correctly specified.\n",
       "\"\"\""
      ]
     },
     "execution_count": 20,
     "metadata": {},
     "output_type": "execute_result"
    }
   ],
   "source": [
    "xAge = sm.add_constant(data[[\"age\"]])\n",
    "yCharges = data['charges']\n",
    "\n",
    "modelAC = sm.OLS(yCharges,xAge)\n",
    "modelFitAC = modelAC.fit()\n",
    "modelFitAC.summary()"
   ]
  },
  {
   "cell_type": "markdown",
   "id": "6a91bd8a",
   "metadata": {},
   "source": [
    "* R-squared değeri, bağımsız değişkenin bağımlı değişkendeki değişkenliği açıklama başarısıdır. Yani age değişkeni charges değişkeninde yer alan değişkenliğin yaklaşık %9'nu açıklayabilmektedir."
   ]
  },
  {
   "cell_type": "markdown",
   "id": "e2724dc0",
   "metadata": {},
   "source": [
    "<a id = \"13\"></a><br>\n",
    "### `bmi` ile `children` arasındaki ilişki:"
   ]
  },
  {
   "cell_type": "markdown",
   "id": "25da3444",
   "metadata": {},
   "source": [
    "<a id = \"14\"></a><br>\n",
    "### `bmi` değişkeninde outlier kontrolü:"
   ]
  },
  {
   "cell_type": "markdown",
   "id": "a91b413f",
   "metadata": {},
   "source": [
    "> Outlier değere hızlı bir bakış için: ***Boxplot*** Grafiğini kontrol edelim."
   ]
  },
  {
   "cell_type": "code",
   "execution_count": 11,
   "id": "09501d60",
   "metadata": {},
   "outputs": [
    {
     "data": {
      "image/png": "[encoded data removed]",
      "text/plain": [
       "<Figure size 720x504 with 1 Axes>"
      ]
     },
     "metadata": {
      "needs_background": "light"
     },
     "output_type": "display_data"
    }
   ],
   "source": [
    "green_diamond = dict(markerfacecolor='r', marker='D')\n",
    "\n",
    "fig, ax1 = plt.subplots(1, figsize = (10, 7))\n",
    " \n",
    "ax1.boxplot(data[\"bmi\"],flierprops=green_diamond)\n",
    "ax1.set_title(\"BMI Boxplot\",\n",
    "              fontdict=dict(\n",
    "                family=\"DejaVu Sans\",\n",
    "                size=15,\n",
    "                color=\"sienna\"))\n",
    "\n",
    " \n",
    "plt.show();"
   ]
  },
  {
   "cell_type": "markdown",
   "id": "136e82a4",
   "metadata": {},
   "source": [
    "* Grafikte, değişken için kırmızı noktalarla temsil edilen ve kutunun dışarısında kalan **aykırı değerler bulunduğunu** görebilmekteyiz. \n",
    "\n",
    "* Aykırı değerlere daha dayanıklı olan `Çeyrekler Açıklığı (IQR)` metodunu kullanarak aykırı değerleri tespit edelim."
   ]
  },
  {
   "cell_type": "markdown",
   "id": "eef2e7ef",
   "metadata": {},
   "source": [
    "**Çeyrekler Açıklığı (IQR)**"
   ]
  },
  {
   "cell_type": "code",
   "execution_count": 12,
   "id": "a2a1b097",
   "metadata": {},
   "outputs": [],
   "source": [
    "def iqr(df,degisken):\n",
    "    \n",
    "    \"\"\"\n",
    "        Bu fonksiyon ile Çeyrekler Açıklığı Yöntemi kullanılarak, aykırı değerler tespit edilmiştir. \n",
    "    \"\"\"\n",
    "    \n",
    "    # 1 ve 3. çeyrekllik hesaplama\n",
    "    q1 = np.quantile(df[degisken], 0.25)\n",
    "    q3 = np.quantile(df[degisken], 0.75)\n",
    "    # iki çeyrek arasındaki %50’lik dilim\n",
    "    diff = q3 - q1\n",
    "    # alt ve üst eşik değerlerini hesaplarken 1. çeyrekten 1.5 kat az, 3. çeyrekten de 1.5 kat fazla olan değeri \n",
    "    #sınır olarak belirle\n",
    "    lower_t = q1 - (1.5 * diff)\n",
    "    upper_t = q3 + (1.5 * diff)\n",
    "    #eşik değerlerin altında ve üstünde kalan değerleri döndür\n",
    "    return (df[(df[degisken] < lower_t) | (df[degisken] > upper_t)]),lower_t,upper_t "
   ]
  },
  {
   "cell_type": "code",
   "execution_count": 13,
   "id": "3ab12db7",
   "metadata": {},
   "outputs": [
    {
     "name": "stdout",
     "output_type": "stream",
     "text": [
      "Çeyrekler Açıklığı (IQR) Yöntemine Göre: \n",
      "TUKETILEN_ENERJI_KWH Değişkeninde Bulunan Aykırı Değer Miktarı: 9\n",
      "Lower Thresh Değeri: 13.7 | Upper Thresh Değeri: 47.290000000000006\n"
     ]
    }
   ],
   "source": [
    "bmiOutlier,lowerThresh,upperThresh = iqr(data, \"bmi\")\n",
    "print(\"Çeyrekler Açıklığı (IQR) Yöntemine Göre: \") \n",
    "print(f\"TUKETILEN_ENERJI_KWH Değişkeninde Bulunan Aykırı Değer Miktarı: {len(bmiOutlier)}\")\n",
    "print(f\"Lower Thresh Değeri: {lowerThresh} | Upper Thresh Değeri: {upperThresh}\") "
   ]
  },
  {
   "cell_type": "markdown",
   "id": "76f28e24",
   "metadata": {},
   "source": [
    "<a id = \"15\"></a><br>\n",
    "### `bmi` ile `charges` arasındaki ilişki:"
   ]
  },
  {
   "cell_type": "markdown",
   "id": "67935640",
   "metadata": {},
   "source": [
    "* Sayısal değişkenler arasındaki ilişki için, Plot Grafiğini, Korelasyon ve R-squared değerlerini inceleyelim."
   ]
  },
  {
   "cell_type": "markdown",
   "id": "7ff15556",
   "metadata": {},
   "source": [
    "> **Plot Grafiği**"
   ]
  },
  {
   "cell_type": "code",
   "execution_count": 30,
   "id": "31433337",
   "metadata": {},
   "outputs": [
    {
     "data": {
      "image/png": "[encoded data removed]",
      "text/plain": [
       "<Figure size 432x432 with 3 Axes>"
      ]
     },
     "metadata": {
      "needs_background": "light"
     },
     "output_type": "display_data"
    }
   ],
   "source": [
    "sns.jointplot(x = \"bmi\" , y = \"charges\", data=data, kind = \"reg\");"
   ]
  },
  {
   "cell_type": "markdown",
   "id": "9a17b359",
   "metadata": {},
   "source": [
    "* Plot grafiğinde görüldüğü üzere, Vücut Kütle İndeksi ve Masraflar arasında ilişki yok denilecek kadar azdır."
   ]
  },
  {
   "cell_type": "markdown",
   "id": "0bca2b8f",
   "metadata": {},
   "source": [
    "> **Korelasyon Değeri**"
   ]
  },
  {
   "cell_type": "code",
   "execution_count": 31,
   "id": "b83f1c04",
   "metadata": {},
   "outputs": [
    {
     "data": {
      "text/html": [
       "<div>\n",
       "<style scoped>\n",
       "    .dataframe tbody tr th:only-of-type {\n",
       "        vertical-align: middle;\n",
       "    }\n",
       "\n",
       "    .dataframe tbody tr th {\n",
       "        vertical-align: top;\n",
       "    }\n",
       "\n",
       "    .dataframe thead th {\n",
       "        text-align: right;\n",
       "    }\n",
       "</style>\n",
       "<table border=\"1\" class=\"dataframe\">\n",
       "  <thead>\n",
       "    <tr style=\"text-align: right;\">\n",
       "      <th></th>\n",
       "      <th>age</th>\n",
       "      <th>bmi</th>\n",
       "      <th>children</th>\n",
       "      <th>charges</th>\n",
       "    </tr>\n",
       "  </thead>\n",
       "  <tbody>\n",
       "    <tr>\n",
       "      <th>age</th>\n",
       "      <td>1.000000</td>\n",
       "      <td>0.109272</td>\n",
       "      <td>0.042469</td>\n",
       "      <td>0.299008</td>\n",
       "    </tr>\n",
       "    <tr>\n",
       "      <th>bmi</th>\n",
       "      <td>0.109272</td>\n",
       "      <td>1.000000</td>\n",
       "      <td>0.012759</td>\n",
       "      <td>0.198341</td>\n",
       "    </tr>\n",
       "    <tr>\n",
       "      <th>children</th>\n",
       "      <td>0.042469</td>\n",
       "      <td>0.012759</td>\n",
       "      <td>1.000000</td>\n",
       "      <td>0.067998</td>\n",
       "    </tr>\n",
       "    <tr>\n",
       "      <th>charges</th>\n",
       "      <td>0.299008</td>\n",
       "      <td>0.198341</td>\n",
       "      <td>0.067998</td>\n",
       "      <td>1.000000</td>\n",
       "    </tr>\n",
       "  </tbody>\n",
       "</table>\n",
       "</div>"
      ],
      "text/plain": [
       "               age       bmi  children   charges\n",
       "age       1.000000  0.109272  0.042469  0.299008\n",
       "bmi       0.109272  1.000000  0.012759  0.198341\n",
       "children  0.042469  0.012759  1.000000  0.067998\n",
       "charges   0.299008  0.198341  0.067998  1.000000"
      ]
     },
     "execution_count": 31,
     "metadata": {},
     "output_type": "execute_result"
    }
   ],
   "source": [
    "data.corr()"
   ]
  },
  {
   "cell_type": "markdown",
   "id": "678f4ef5",
   "metadata": {},
   "source": [
    "* Korelasyon değerleri incelendiğinde, Vücut Kütle İndeksi ve Masraflar arasında çok zayıf bir ilişki veya ilişki yok denilebilmektedir."
   ]
  },
  {
   "cell_type": "markdown",
   "id": "e3db3c07",
   "metadata": {},
   "source": [
    "> **R-Squared Değeri**"
   ]
  },
  {
   "cell_type": "code",
   "execution_count": 32,
   "id": "69141145",
   "metadata": {},
   "outputs": [
    {
     "data": {
      "text/html": [
       "<table class=\"simpletable\">\n",
       "<caption>OLS Regression Results</caption>\n",
       "<tr>\n",
       "  <th>Dep. Variable:</th>         <td>charges</td>     <th>  R-squared:         </th> <td>   0.039</td> \n",
       "</tr>\n",
       "<tr>\n",
       "  <th>Model:</th>                   <td>OLS</td>       <th>  Adj. R-squared:    </th> <td>   0.039</td> \n",
       "</tr>\n",
       "<tr>\n",
       "  <th>Method:</th>             <td>Least Squares</td>  <th>  F-statistic:       </th> <td>   54.71</td> \n",
       "</tr>\n",
       "<tr>\n",
       "  <th>Date:</th>             <td>Sun, 25 Sep 2022</td> <th>  Prob (F-statistic):</th> <td>2.46e-13</td> \n",
       "</tr>\n",
       "<tr>\n",
       "  <th>Time:</th>                 <td>22:47:32</td>     <th>  Log-Likelihood:    </th> <td> -14451.</td> \n",
       "</tr>\n",
       "<tr>\n",
       "  <th>No. Observations:</th>      <td>  1338</td>      <th>  AIC:               </th> <td>2.891e+04</td>\n",
       "</tr>\n",
       "<tr>\n",
       "  <th>Df Residuals:</th>          <td>  1336</td>      <th>  BIC:               </th> <td>2.892e+04</td>\n",
       "</tr>\n",
       "<tr>\n",
       "  <th>Df Model:</th>              <td>     1</td>      <th>                     </th>     <td> </td>    \n",
       "</tr>\n",
       "<tr>\n",
       "  <th>Covariance Type:</th>      <td>nonrobust</td>    <th>                     </th>     <td> </td>    \n",
       "</tr>\n",
       "</table>\n",
       "<table class=\"simpletable\">\n",
       "<tr>\n",
       "    <td></td>       <th>coef</th>     <th>std err</th>      <th>t</th>      <th>P>|t|</th>  <th>[0.025</th>    <th>0.975]</th>  \n",
       "</tr>\n",
       "<tr>\n",
       "  <th>const</th> <td> 1192.9372</td> <td> 1664.802</td> <td>    0.717</td> <td> 0.474</td> <td>-2072.974</td> <td> 4458.849</td>\n",
       "</tr>\n",
       "<tr>\n",
       "  <th>bmi</th>   <td>  393.8730</td> <td>   53.251</td> <td>    7.397</td> <td> 0.000</td> <td>  289.409</td> <td>  498.337</td>\n",
       "</tr>\n",
       "</table>\n",
       "<table class=\"simpletable\">\n",
       "<tr>\n",
       "  <th>Omnibus:</th>       <td>261.030</td> <th>  Durbin-Watson:     </th> <td>   1.983</td>\n",
       "</tr>\n",
       "<tr>\n",
       "  <th>Prob(Omnibus):</th> <td> 0.000</td>  <th>  Jarque-Bera (JB):  </th> <td> 431.091</td>\n",
       "</tr>\n",
       "<tr>\n",
       "  <th>Skew:</th>          <td> 1.297</td>  <th>  Prob(JB):          </th> <td>2.45e-94</td>\n",
       "</tr>\n",
       "<tr>\n",
       "  <th>Kurtosis:</th>      <td> 4.004</td>  <th>  Cond. No.          </th> <td>    160.</td>\n",
       "</tr>\n",
       "</table><br/><br/>Notes:<br/>[1] Standard Errors assume that the covariance matrix of the errors is correctly specified."
      ],
      "text/plain": [
       "<class 'statsmodels.iolib.summary.Summary'>\n",
       "\"\"\"\n",
       "                            OLS Regression Results                            \n",
       "==============================================================================\n",
       "Dep. Variable:                charges   R-squared:                       0.039\n",
       "Model:                            OLS   Adj. R-squared:                  0.039\n",
       "Method:                 Least Squares   F-statistic:                     54.71\n",
       "Date:                Sun, 25 Sep 2022   Prob (F-statistic):           2.46e-13\n",
       "Time:                        22:47:32   Log-Likelihood:                -14451.\n",
       "No. Observations:                1338   AIC:                         2.891e+04\n",
       "Df Residuals:                    1336   BIC:                         2.892e+04\n",
       "Df Model:                           1                                         \n",
       "Covariance Type:            nonrobust                                         \n",
       "==============================================================================\n",
       "                 coef    std err          t      P>|t|      [0.025      0.975]\n",
       "------------------------------------------------------------------------------\n",
       "const       1192.9372   1664.802      0.717      0.474   -2072.974    4458.849\n",
       "bmi          393.8730     53.251      7.397      0.000     289.409     498.337\n",
       "==============================================================================\n",
       "Omnibus:                      261.030   Durbin-Watson:                   1.983\n",
       "Prob(Omnibus):                  0.000   Jarque-Bera (JB):              431.091\n",
       "Skew:                           1.297   Prob(JB):                     2.45e-94\n",
       "Kurtosis:                       4.004   Cond. No.                         160.\n",
       "==============================================================================\n",
       "\n",
       "Notes:\n",
       "[1] Standard Errors assume that the covariance matrix of the errors is correctly specified.\n",
       "\"\"\""
      ]
     },
     "execution_count": 32,
     "metadata": {},
     "output_type": "execute_result"
    }
   ],
   "source": [
    "xBmi = sm.add_constant(data[[\"bmi\"]])\n",
    "yCharges = data['charges']\n",
    "\n",
    "modelBC = sm.OLS(yCharges,xBmi)\n",
    "modelFitBC = modelBC.fit()\n",
    "modelFitBC.summary()"
   ]
  },
  {
   "cell_type": "markdown",
   "id": "e9ee0ee9",
   "metadata": {},
   "source": [
    "* `bmi` değişkeni `charges` değişkeninde yer alan değişkenliğin yaklaşık %4'ünü açıklayabilmektedir."
   ]
  },
  {
   "cell_type": "markdown",
   "id": "74c5a879",
   "metadata": {},
   "source": [
    "<a id = \"16\"></a><br>\n",
    "### `region`, `smoker` ve `bmi` arasındaki ilişkiyi bar plot kullanarak inceleme:"
   ]
  },
  {
   "cell_type": "code",
   "execution_count": null,
   "id": "a88da57c",
   "metadata": {},
   "outputs": [],
   "source": []
  }
 ],
 "metadata": {
  "kernelspec": {
   "display_name": "Python 3",
   "language": "python",
   "name": "python3"
  },
  "language_info": {
   "codemirror_mode": {
    "name": "ipython",
    "version": 3
   },
   "file_extension": ".py",
   "mimetype": "text/x-python",
   "name": "python",
   "nbconvert_exporter": "python",
   "pygments_lexer": "ipython3",
   "version": "3.8.8"
  }
 },
 "nbformat": 4,
 "nbformat_minor": 5
}
